{
  "nbformat": 4,
  "nbformat_minor": 0,
  "metadata": {
    "colab": {
      "provenance": [],
      "include_colab_link": true
    },
    "kernelspec": {
      "name": "python3",
      "display_name": "Python 3"
    },
    "language_info": {
      "name": "python"
    }
  },
  "cells": [
    {
      "cell_type": "markdown",
      "metadata": {
        "id": "view-in-github",
        "colab_type": "text"
      },
      "source": [
        "<a href=\"https://colab.research.google.com/github/GruveJL/MVP2_PUCRIO_ELICOES/blob/main/MVP_2_Patrimonio__preparo.ipynb\" target=\"_parent\"><img src=\"https://colab.research.google.com/assets/colab-badge.svg\" alt=\"Open In Colab\"/></a>"
      ]
    },
    {
      "cell_type": "markdown",
      "source": [
        "# Engenharia de dados"
      ],
      "metadata": {
        "id": "avT_fxDA37-C"
      }
    },
    {
      "cell_type": "markdown",
      "source": [
        "Para a análise iremos usar as bases disponibilizadas pelo TSE, entretanto o arquivo vem compactado com diversos outros arquivos."
      ],
      "metadata": {
        "id": "xfOwy0r88U-J"
      }
    },
    {
      "cell_type": "markdown",
      "source": [
        "Esse arquivo serve para baixar/tratar previamente as bases que usaremos no projeto"
      ],
      "metadata": {
        "id": "SLckkuF64LVQ"
      }
    },
    {
      "cell_type": "code",
      "source": [
        "# Bibliotecas\n",
        "import zipfile\n"
      ],
      "metadata": {
        "id": "BxMswvQh6O_j"
      },
      "execution_count": null,
      "outputs": []
    },
    {
      "cell_type": "code",
      "execution_count": null,
      "metadata": {
        "colab": {
          "base_uri": "https://localhost:8080/"
        },
        "id": "tjBgPbCq34Yk",
        "outputId": "00e8ae8a-d1ca-4099-f7f8-c36109a4dbf3"
      },
      "outputs": [
        {
          "output_type": "stream",
          "name": "stdout",
          "text": [
            "Mounted at /content/drive\n"
          ]
        }
      ],
      "source": [
        "# Estabelecendo conexão com o drive\n",
        "from google.colab import drive\n",
        "drive.mount('/content/drive')"
      ]
    },
    {
      "cell_type": "markdown",
      "source": [
        "Criar Pasta para baixar dados"
      ],
      "metadata": {
        "id": "tDU-xa5n5A6Y"
      }
    },
    {
      "cell_type": "code",
      "source": [
        "# Criando pasta caso não exista\n",
        "!mkdir -p \"/content/drive/MyDrive/MVP/Datasets\""
      ],
      "metadata": {
        "id": "xKHXXjPT5Aj3"
      },
      "execution_count": null,
      "outputs": []
    },
    {
      "cell_type": "markdown",
      "source": [
        "Baixando arquivos dos candidatos:"
      ],
      "metadata": {
        "id": "Z_AdvRK05ZlM"
      }
    },
    {
      "cell_type": "code",
      "source": [
        "# Baixando arquivo .zip completo\n",
        "!wget -P \"/content/drive/MyDrive/MVP/Datasets\" https://cdn.tse.jus.br/estatistica/sead/odsele/consulta_cand/consulta_cand_2024.zip"
      ],
      "metadata": {
        "colab": {
          "base_uri": "https://localhost:8080/"
        },
        "id": "oE0tJir35bqP",
        "outputId": "dae466f3-838f-46c3-edce-8c33632d1edb"
      },
      "execution_count": null,
      "outputs": [
        {
          "output_type": "stream",
          "name": "stdout",
          "text": [
            "--2025-07-06 22:56:08--  https://cdn.tse.jus.br/estatistica/sead/odsele/consulta_cand/consulta_cand_2024.zip\n",
            "Resolving cdn.tse.jus.br (cdn.tse.jus.br)... 187.32.204.94, 8.242.50.94\n",
            "Connecting to cdn.tse.jus.br (cdn.tse.jus.br)|187.32.204.94|:443... connected.\n",
            "HTTP request sent, awaiting response... 200 OK\n",
            "Length: 63217000 (60M) [application/zip]\n",
            "Saving to: ‘/content/drive/MyDrive/MVP/Datasets/consulta_cand_2024.zip’\n",
            "\n",
            "consulta_cand_2024. 100%[===================>]  60.29M   942KB/s    in 66s     \n",
            "\n",
            "2025-07-06 22:57:15 (931 KB/s) - ‘/content/drive/MyDrive/MVP/Datasets/consulta_cand_2024.zip’ saved [63217000/63217000]\n",
            "\n"
          ]
        }
      ]
    },
    {
      "cell_type": "markdown",
      "source": [
        "Função para extrair um arquivo:"
      ],
      "metadata": {
        "id": "4XURu6wo_P6Q"
      }
    },
    {
      "cell_type": "code",
      "source": [
        "# Função para extração de arquivos\n",
        "def unzip_one_file(zip_path, dest_dir, filename_to_extract):\n",
        "    with zipfile.ZipFile(zip_path, 'r') as zf:\n",
        "        # Lista todos os arquivos no .zip\n",
        "        if filename_to_extract in zf.namelist():\n",
        "            zf.extract(filename_to_extract, dest_dir)\n",
        "            print(f\"Arquivo '{filename_to_extract}' extraído para: {dest_dir}\")\n",
        "        else:\n",
        "            print(f\"Arquivo '{filename_to_extract}' não encontrado no .zip.\")\n"
      ],
      "metadata": {
        "id": "9rcPpsWP-CPX"
      },
      "execution_count": null,
      "outputs": []
    },
    {
      "cell_type": "markdown",
      "source": [
        "Extraindo arquivo consolidado do país:"
      ],
      "metadata": {
        "id": "vxP2gzvF_X92"
      }
    },
    {
      "cell_type": "code",
      "source": [
        "# Definindo variáveis para extração\n",
        "zip_path = '/content/drive/MyDrive/MVP/Datasets/consulta_cand_2024.zip'\n",
        "dest_dir = '/content/drive/MyDrive/MVP/Datasets'\n",
        "filename = 'consulta_cand_2024_BRASIL.csv'\n",
        "\n",
        "unzip_one_file(zip_path, dest_dir, filename)"
      ],
      "metadata": {
        "colab": {
          "base_uri": "https://localhost:8080/"
        },
        "id": "KQk05Ou7_W-b",
        "outputId": "73198cba-3bb4-49af-aff6-6e0fbabc9d0f"
      },
      "execution_count": null,
      "outputs": [
        {
          "output_type": "stream",
          "name": "stdout",
          "text": [
            "Arquivo 'consulta_cand_2024_BRASIL.csv' extraído para: /content/drive/MyDrive/MVP/Datasets\n"
          ]
        }
      ]
    },
    {
      "cell_type": "markdown",
      "source": [
        "Baixando arquivos dos bens:"
      ],
      "metadata": {
        "id": "gA6WitrD_0aG"
      }
    },
    {
      "cell_type": "code",
      "source": [
        "# Baixando arquivo de bens\n",
        "!wget -P \"/content/drive/MyDrive/MVP/Datasets\" https://cdn.tse.jus.br/estatistica/sead/odsele/bem_candidato/bem_candidato_2024.zip"
      ],
      "metadata": {
        "colab": {
          "base_uri": "https://localhost:8080/"
        },
        "id": "I-_kO0DZ_vsj",
        "outputId": "b8f1d448-cabe-40ed-b492-2825f39145ac"
      },
      "execution_count": null,
      "outputs": [
        {
          "output_type": "stream",
          "name": "stdout",
          "text": [
            "--2025-07-06 23:08:20--  https://cdn.tse.jus.br/estatistica/sead/odsele/bem_candidato/bem_candidato_2024.zip\n",
            "Resolving cdn.tse.jus.br (cdn.tse.jus.br)... 187.32.204.94, 8.242.50.94\n",
            "Connecting to cdn.tse.jus.br (cdn.tse.jus.br)|187.32.204.94|:443... connected.\n",
            "HTTP request sent, awaiting response... 200 OK\n",
            "Length: 45931942 (44M) [application/zip]\n",
            "Saving to: ‘/content/drive/MyDrive/MVP/Datasets/bem_candidato_2024.zip’\n",
            "\n",
            "bem_candidato_2024. 100%[===================>]  43.80M   971KB/s    in 48s     \n",
            "\n",
            "2025-07-06 23:09:08 (939 KB/s) - ‘/content/drive/MyDrive/MVP/Datasets/bem_candidato_2024.zip’ saved [45931942/45931942]\n",
            "\n"
          ]
        }
      ]
    },
    {
      "cell_type": "markdown",
      "source": [
        "Extraindo arquivo consolidado do país:"
      ],
      "metadata": {
        "id": "UfpwBZvh_8hd"
      }
    },
    {
      "cell_type": "code",
      "source": [
        "# Definindo variáveis para extração\n",
        "zip_path = '/content/drive/MyDrive/MVP/Datasets/bem_candidato_2024.zip'\n",
        "dest_dir = '/content/drive/MyDrive/MVP/Datasets'\n",
        "filename = 'bem_candidato_2024_BRASIL.csv'\n",
        "\n",
        "unzip_one_file(zip_path, dest_dir, filename)"
      ],
      "metadata": {
        "colab": {
          "base_uri": "https://localhost:8080/"
        },
        "id": "YoEca9ZjABAA",
        "outputId": "1454994e-b51e-4fae-87f1-689f771ca3e8"
      },
      "execution_count": null,
      "outputs": [
        {
          "output_type": "stream",
          "name": "stdout",
          "text": [
            "Arquivo 'bem_candidato_2024_BRASIL.csv' extraído para: /content/drive/MyDrive/MVP/Datasets\n"
          ]
        }
      ]
    },
    {
      "cell_type": "markdown",
      "source": [
        "Pronto agora temos nossas bases disponíveis"
      ],
      "metadata": {
        "id": "0a_9pk47ARy-"
      }
    }
  ]
}